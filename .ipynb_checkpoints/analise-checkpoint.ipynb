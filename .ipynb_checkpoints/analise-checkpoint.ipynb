{
 "cells": [
  {
   "cell_type": "code",
   "execution_count": 1,
   "metadata": {},
   "outputs": [],
   "source": [
    "import pandas as pd\n",
    "import matplotlib.pyplot as plt\n",
    "import seaborn as sns\n",
    "import plotly.express as px"
   ]
  },
  {
   "cell_type": "code",
   "execution_count": 2,
   "metadata": {},
   "outputs": [
    {
     "data": {
      "text/html": [
       "<div>\n",
       "<style scoped>\n",
       "    .dataframe tbody tr th:only-of-type {\n",
       "        vertical-align: middle;\n",
       "    }\n",
       "\n",
       "    .dataframe tbody tr th {\n",
       "        vertical-align: top;\n",
       "    }\n",
       "\n",
       "    .dataframe thead th {\n",
       "        text-align: right;\n",
       "    }\n",
       "</style>\n",
       "<table border=\"1\" class=\"dataframe\">\n",
       "  <thead>\n",
       "    <tr style=\"text-align: right;\">\n",
       "      <th></th>\n",
       "      <th>Unnamed: 0</th>\n",
       "      <th>Ano</th>\n",
       "      <th>Mês</th>\n",
       "      <th>Substância</th>\n",
       "      <th>UF</th>\n",
       "      <th>Município</th>\n",
       "      <th>ValorRecolhido</th>\n",
       "    </tr>\n",
       "  </thead>\n",
       "  <tbody>\n",
       "    <tr>\n",
       "      <th>0</th>\n",
       "      <td>0</td>\n",
       "      <td>2002</td>\n",
       "      <td>8</td>\n",
       "      <td>BASALTO</td>\n",
       "      <td>RS</td>\n",
       "      <td>TRÊS DE MAIO</td>\n",
       "      <td>206,41</td>\n",
       "    </tr>\n",
       "    <tr>\n",
       "      <th>1</th>\n",
       "      <td>1</td>\n",
       "      <td>2003</td>\n",
       "      <td>5</td>\n",
       "      <td>AREIA</td>\n",
       "      <td>GO</td>\n",
       "      <td>SÃO LUÍS DE MONTES BELOS</td>\n",
       "      <td>34,33</td>\n",
       "    </tr>\n",
       "    <tr>\n",
       "      <th>2</th>\n",
       "      <td>2</td>\n",
       "      <td>2003</td>\n",
       "      <td>5</td>\n",
       "      <td>MINÉRIO DE FERRO</td>\n",
       "      <td>MG</td>\n",
       "      <td>CONGONHAS</td>\n",
       "      <td>33065,2</td>\n",
       "    </tr>\n",
       "    <tr>\n",
       "      <th>3</th>\n",
       "      <td>3</td>\n",
       "      <td>2003</td>\n",
       "      <td>5</td>\n",
       "      <td>MINÉRIO DE FERRO</td>\n",
       "      <td>MG</td>\n",
       "      <td>CONGONHAS</td>\n",
       "      <td>7187,67</td>\n",
       "    </tr>\n",
       "    <tr>\n",
       "      <th>4</th>\n",
       "      <td>4</td>\n",
       "      <td>2003</td>\n",
       "      <td>5</td>\n",
       "      <td>ARGILA P/CER. VERMELH</td>\n",
       "      <td>BA</td>\n",
       "      <td>GUANAMBI</td>\n",
       "      <td>10,09</td>\n",
       "    </tr>\n",
       "  </tbody>\n",
       "</table>\n",
       "</div>"
      ],
      "text/plain": [
       "   Unnamed: 0   Ano  Mês             Substância  UF                 Município  \\\n",
       "0           0  2002    8                BASALTO  RS              TRÊS DE MAIO   \n",
       "1           1  2003    5                  AREIA  GO  SÃO LUÍS DE MONTES BELOS   \n",
       "2           2  2003    5       MINÉRIO DE FERRO  MG                 CONGONHAS   \n",
       "3           3  2003    5       MINÉRIO DE FERRO  MG                 CONGONHAS   \n",
       "4           4  2003    5  ARGILA P/CER. VERMELH  BA                  GUANAMBI   \n",
       "\n",
       "  ValorRecolhido  \n",
       "0         206,41  \n",
       "1          34,33  \n",
       "2        33065,2  \n",
       "3        7187,67  \n",
       "4          10,09  "
      ]
     },
     "execution_count": 2,
     "metadata": {},
     "output_type": "execute_result"
    }
   ],
   "source": [
    "# Cria um dataframe com os dados baixados do site da ANM \n",
    "# https://app.anm.gov.br/DadosAbertos/ARRECADACAO/\n",
    "\n",
    "df = pd.read_csv(\"CEFEM Arrecardacao.csv\", sep=\",\")\n",
    "df.head()"
   ]
  },
  {
   "cell_type": "code",
   "execution_count": 3,
   "metadata": {},
   "outputs": [],
   "source": [
    "#subistui o separador decimal dos dados, em python, o padrão é usar  ponto(.) como separador decimal\n",
    "df[\"ValorRecolhido\"] = df[\"ValorRecolhido\"].str.replace(\",\", \".\")"
   ]
  },
  {
   "cell_type": "code",
   "execution_count": 4,
   "metadata": {},
   "outputs": [
    {
     "data": {
      "text/html": [
       "<div>\n",
       "<style scoped>\n",
       "    .dataframe tbody tr th:only-of-type {\n",
       "        vertical-align: middle;\n",
       "    }\n",
       "\n",
       "    .dataframe tbody tr th {\n",
       "        vertical-align: top;\n",
       "    }\n",
       "\n",
       "    .dataframe thead th {\n",
       "        text-align: right;\n",
       "    }\n",
       "</style>\n",
       "<table border=\"1\" class=\"dataframe\">\n",
       "  <thead>\n",
       "    <tr style=\"text-align: right;\">\n",
       "      <th></th>\n",
       "      <th>Unnamed: 0</th>\n",
       "      <th>Ano</th>\n",
       "      <th>Mês</th>\n",
       "      <th>Substância</th>\n",
       "      <th>UF</th>\n",
       "      <th>Município</th>\n",
       "      <th>ValorRecolhido</th>\n",
       "    </tr>\n",
       "  </thead>\n",
       "  <tbody>\n",
       "    <tr>\n",
       "      <th>0</th>\n",
       "      <td>0</td>\n",
       "      <td>2002</td>\n",
       "      <td>8</td>\n",
       "      <td>BASALTO</td>\n",
       "      <td>RS</td>\n",
       "      <td>TRÊS DE MAIO</td>\n",
       "      <td>206.41</td>\n",
       "    </tr>\n",
       "    <tr>\n",
       "      <th>1</th>\n",
       "      <td>1</td>\n",
       "      <td>2003</td>\n",
       "      <td>5</td>\n",
       "      <td>AREIA</td>\n",
       "      <td>GO</td>\n",
       "      <td>SÃO LUÍS DE MONTES BELOS</td>\n",
       "      <td>34.33</td>\n",
       "    </tr>\n",
       "    <tr>\n",
       "      <th>2</th>\n",
       "      <td>2</td>\n",
       "      <td>2003</td>\n",
       "      <td>5</td>\n",
       "      <td>MINÉRIO DE FERRO</td>\n",
       "      <td>MG</td>\n",
       "      <td>CONGONHAS</td>\n",
       "      <td>33065.2</td>\n",
       "    </tr>\n",
       "    <tr>\n",
       "      <th>3</th>\n",
       "      <td>3</td>\n",
       "      <td>2003</td>\n",
       "      <td>5</td>\n",
       "      <td>MINÉRIO DE FERRO</td>\n",
       "      <td>MG</td>\n",
       "      <td>CONGONHAS</td>\n",
       "      <td>7187.67</td>\n",
       "    </tr>\n",
       "    <tr>\n",
       "      <th>4</th>\n",
       "      <td>4</td>\n",
       "      <td>2003</td>\n",
       "      <td>5</td>\n",
       "      <td>ARGILA P/CER. VERMELH</td>\n",
       "      <td>BA</td>\n",
       "      <td>GUANAMBI</td>\n",
       "      <td>10.09</td>\n",
       "    </tr>\n",
       "  </tbody>\n",
       "</table>\n",
       "</div>"
      ],
      "text/plain": [
       "   Unnamed: 0   Ano  Mês             Substância  UF                 Município  \\\n",
       "0           0  2002    8                BASALTO  RS              TRÊS DE MAIO   \n",
       "1           1  2003    5                  AREIA  GO  SÃO LUÍS DE MONTES BELOS   \n",
       "2           2  2003    5       MINÉRIO DE FERRO  MG                 CONGONHAS   \n",
       "3           3  2003    5       MINÉRIO DE FERRO  MG                 CONGONHAS   \n",
       "4           4  2003    5  ARGILA P/CER. VERMELH  BA                  GUANAMBI   \n",
       "\n",
       "  ValorRecolhido  \n",
       "0         206.41  \n",
       "1          34.33  \n",
       "2        33065.2  \n",
       "3        7187.67  \n",
       "4          10.09  "
      ]
     },
     "execution_count": 4,
     "metadata": {},
     "output_type": "execute_result"
    }
   ],
   "source": [
    "df.head()"
   ]
  },
  {
   "cell_type": "code",
   "execution_count": 5,
   "metadata": {},
   "outputs": [
    {
     "data": {
      "text/plain": [
       "Unnamed: 0         int64\n",
       "Ano                int64\n",
       "Mês                int64\n",
       "Substância        object\n",
       "UF                object\n",
       "Município         object\n",
       "ValorRecolhido    object\n",
       "dtype: object"
      ]
     },
     "execution_count": 5,
     "metadata": {},
     "output_type": "execute_result"
    }
   ],
   "source": [
    "df.dtypes"
   ]
  },
  {
   "cell_type": "code",
   "execution_count": 6,
   "metadata": {},
   "outputs": [],
   "source": [
    "df[\"ValorRecolhido\"] = df[\"ValorRecolhido\"].astype(\"float\")"
   ]
  },
  {
   "cell_type": "code",
   "execution_count": 7,
   "metadata": {},
   "outputs": [
    {
     "data": {
      "text/plain": [
       "Unnamed: 0          int64\n",
       "Ano                 int64\n",
       "Mês                 int64\n",
       "Substância         object\n",
       "UF                 object\n",
       "Município          object\n",
       "ValorRecolhido    float64\n",
       "dtype: object"
      ]
     },
     "execution_count": 7,
     "metadata": {},
     "output_type": "execute_result"
    }
   ],
   "source": [
    "df.dtypes"
   ]
  },
  {
   "cell_type": "code",
   "execution_count": 8,
   "metadata": {},
   "outputs": [
    {
     "data": {
      "text/plain": [
       "count    1.885251e+06\n",
       "mean     2.726793e+04\n",
       "std      8.167515e+05\n",
       "min      1.000000e-02\n",
       "25%      8.680000e+01\n",
       "50%      3.278900e+02\n",
       "75%      1.516245e+03\n",
       "max      9.977046e+07\n",
       "Name: ValorRecolhido, dtype: float64"
      ]
     },
     "execution_count": 8,
     "metadata": {},
     "output_type": "execute_result"
    }
   ],
   "source": [
    "df[\"ValorRecolhido\"].describe()"
   ]
  },
  {
   "cell_type": "code",
   "execution_count": 9,
   "metadata": {},
   "outputs": [],
   "source": [
    "anoagrupado = df.groupby(\"Ano\")[\"ValorRecolhido\"].sum().reset_index()"
   ]
  },
  {
   "cell_type": "code",
   "execution_count": 10,
   "metadata": {},
   "outputs": [],
   "source": [
    "pd.set_option('display.float_format', '{:.2f}'.format)"
   ]
  },
  {
   "cell_type": "code",
   "execution_count": 11,
   "metadata": {},
   "outputs": [
    {
     "data": {
      "text/html": [
       "<div>\n",
       "<style scoped>\n",
       "    .dataframe tbody tr th:only-of-type {\n",
       "        vertical-align: middle;\n",
       "    }\n",
       "\n",
       "    .dataframe tbody tr th {\n",
       "        vertical-align: top;\n",
       "    }\n",
       "\n",
       "    .dataframe thead th {\n",
       "        text-align: right;\n",
       "    }\n",
       "</style>\n",
       "<table border=\"1\" class=\"dataframe\">\n",
       "  <thead>\n",
       "    <tr style=\"text-align: right;\">\n",
       "      <th></th>\n",
       "      <th>Ano</th>\n",
       "      <th>ValorRecolhido</th>\n",
       "    </tr>\n",
       "  </thead>\n",
       "  <tbody>\n",
       "    <tr>\n",
       "      <th>0</th>\n",
       "      <td>2002</td>\n",
       "      <td>206.41</td>\n",
       "    </tr>\n",
       "    <tr>\n",
       "      <th>1</th>\n",
       "      <td>2003</td>\n",
       "      <td>140210148.01</td>\n",
       "    </tr>\n",
       "    <tr>\n",
       "      <th>2</th>\n",
       "      <td>2004</td>\n",
       "      <td>322899052.80</td>\n",
       "    </tr>\n",
       "    <tr>\n",
       "      <th>3</th>\n",
       "      <td>2005</td>\n",
       "      <td>405381318.91</td>\n",
       "    </tr>\n",
       "    <tr>\n",
       "      <th>4</th>\n",
       "      <td>2006</td>\n",
       "      <td>465061703.74</td>\n",
       "    </tr>\n",
       "  </tbody>\n",
       "</table>\n",
       "</div>"
      ],
      "text/plain": [
       "    Ano  ValorRecolhido\n",
       "0  2002          206.41\n",
       "1  2003    140210148.01\n",
       "2  2004    322899052.80\n",
       "3  2005    405381318.91\n",
       "4  2006    465061703.74"
      ]
     },
     "execution_count": 11,
     "metadata": {},
     "output_type": "execute_result"
    }
   ],
   "source": [
    "anoagrupado.head()"
   ]
  },
  {
   "cell_type": "code",
   "execution_count": null,
   "metadata": {},
   "outputs": [],
   "source": [
    "fig = px.bar(anoagrupado, x=\"Ano\", y=\"ValorRecolhido\")\n",
    "fig.update_layout(xaxis_title=\"Ano\", yaxis_title=\"Valor Recolhido\", title=\"Valor recolhido por ano\",\n",
    "                 title_x=0.5,\n",
    "                 font=dict(color='black'),\n",
    "                 paper_bgcolor='white',\n",
    "                 plot_bgcolor='white',\n",
    "                 margin=dict(l=10, r=10, t=60, b=10))\n",
    "fig.update_xaxes(showline=True, linewidth=1, linecolor='black')\n",
    "fig.update_yaxes(showline=True, linewidth=1, linecolor='black')\n",
    "fig.update_layout(template=\"plotly_dark\")\n",
    "fig.show()\n"
   ]
  },
  {
   "cell_type": "code",
   "execution_count": null,
   "metadata": {},
   "outputs": [],
   "source": [
    "df['Ano/mes'] = pd.to_datetime(df['Ano'].astype(str) + '-' + df['Mês'].astype(str) + '-1')"
   ]
  },
  {
   "cell_type": "code",
   "execution_count": null,
   "metadata": {},
   "outputs": [],
   "source": [
    "df.head()"
   ]
  },
  {
   "cell_type": "code",
   "execution_count": null,
   "metadata": {},
   "outputs": [],
   "source": [
    "AnoMes = df.groupby(\"Ano/mes\")[\"ValorRecolhido\"].sum().reset_index()\n",
    "AnoMes"
   ]
  },
  {
   "cell_type": "code",
   "execution_count": null,
   "metadata": {},
   "outputs": [],
   "source": [
    "fig = px.line(AnoMes, x=\"Ano/mes\", y=\"ValorRecolhido\")\n",
    "fig.update_layout(xaxis_title=\"Ano/mes\", yaxis_title=\"Valor Recolhido\", title=\"Valor recolhido por Ano/Mes\",\n",
    "                 title_x=0.5,\n",
    "                 font=dict(color='black'),\n",
    "                 paper_bgcolor='white',\n",
    "                 plot_bgcolor='white',\n",
    "                 margin=dict(l=10, r=10, t=60, b=10))\n",
    "fig.update_xaxes(showline=True, linewidth=1, linecolor='black')\n",
    "fig.update_yaxes(showline=True, linewidth=1, linecolor='black')\n",
    "fig.update_layout(template=\"plotly_dark\")\n",
    "fig.show()\n"
   ]
  },
  {
   "cell_type": "code",
   "execution_count": null,
   "metadata": {},
   "outputs": [],
   "source": [
    "estados = df.groupby(\"UF\")[\"ValorRecolhido\"].sum().reset_index().sort_values(\n",
    "    by=\"ValorRecolhido\", ascending=False)\n",
    "fig = px.bar(estados, x=\"UF\", y=\"ValorRecolhido\")\n",
    "fig.update_layout(xaxis_title=\"UF\", yaxis_title=\"Valor Recolhido\", title=\"Valor Recolhido Por Estado | Acumulado\",\n",
    "                 title_x=0.5,\n",
    "                 font=dict(color='black'),\n",
    "                 paper_bgcolor='white',\n",
    "                 plot_bgcolor='white',\n",
    "                 margin=dict(l=10, r=10, t=60, b=10))\n",
    "fig.update_xaxes(showline=True, linewidth=1, linecolor='black')\n",
    "fig.update_yaxes(showline=True, linewidth=1, linecolor='black')\n",
    "fig.update_layout(template=\"plotly_dark\")\n",
    "fig.show()\n"
   ]
  },
  {
   "cell_type": "code",
   "execution_count": null,
   "metadata": {},
   "outputs": [],
   "source": [
    "df2023 = df.loc[df[\"Ano\"] == 2023]"
   ]
  },
  {
   "cell_type": "code",
   "execution_count": null,
   "metadata": {},
   "outputs": [],
   "source": [
    "df2023[\"ValorRecolhido\"].sum()"
   ]
  },
  {
   "cell_type": "code",
   "execution_count": null,
   "metadata": {},
   "outputs": [],
   "source": [
    "estados23 = df2023.groupby(\"UF\")[\"ValorRecolhido\"].sum().reset_index().sort_values(\n",
    "    by=\"ValorRecolhido\", ascending=False)\n",
    "fig = px.bar(estados23, x=\"UF\", y=\"ValorRecolhido\")\n",
    "fig.update_layout(xaxis_title=\"UF\", yaxis_title=\"Valor Recolhido\", title=\"Valor Recolhido Por Estado | 2023\",\n",
    "                 title_x=0.5,\n",
    "                 font=dict(color='black'),\n",
    "                 paper_bgcolor='white',\n",
    "                 plot_bgcolor='white',\n",
    "                 margin=dict(l=10, r=10, t=60, b=10))\n",
    "fig.update_xaxes(showline=True, linewidth=1, linecolor='black')\n",
    "fig.update_yaxes(showline=True, linewidth=1, linecolor='black')\n",
    "fig.update_layout(template=\"plotly_dark\")\n",
    "fig.show()\n",
    "\n"
   ]
  },
  {
   "cell_type": "code",
   "execution_count": null,
   "metadata": {},
   "outputs": [],
   "source": [
    "municipios = df.groupby(\"Município\")[\"ValorRecolhido\"].sum().reset_index().sort_values(\n",
    "    by=\"ValorRecolhido\", ascending=False).head(20)\n",
    "\n",
    "fig = px.bar(municipios, x=\"Município\", y=\"ValorRecolhido\")\n",
    "fig.update_layout(xaxis_title=\"Município\", yaxis_title=\"Valor Recolhido\", \n",
    "                  title=\"Top 20 Municípios Com Maior Valor Recolhido | Acumulado\",\n",
    "                  title_x=0.5, xaxis_tickangle=-45,\n",
    "                 font=dict(color='black'),\n",
    "                 paper_bgcolor='white',\n",
    "                 plot_bgcolor='white',\n",
    "                 margin=dict(l=10, r=10, t=60, b=10))\n",
    "fig.update_xaxes(showline=True, linewidth=1, linecolor='black')\n",
    "fig.update_yaxes(showline=True, linewidth=1, linecolor='black')\n",
    "fig.update_layout(template=\"plotly_dark\")\n",
    "fig.show()"
   ]
  },
  {
   "cell_type": "code",
   "execution_count": null,
   "metadata": {},
   "outputs": [],
   "source": [
    "Substancia = df.groupby(\"Substância\")[\"ValorRecolhido\"].sum().reset_index().sort_values(\n",
    "    by=\"ValorRecolhido\", ascending=False).head(20)\n",
    "\n",
    "fig = px.bar(Substancia, x=\"Substância\", y=\"ValorRecolhido\")\n",
    "fig.update_layout(xaxis_title=\"Substância\", yaxis_title=\"Valor Recolhido\", \n",
    "                  title=\"Top 20 Substância Com Maior Valor Recolhido | Acumulado\",\n",
    "                  title_x=0.5, xaxis_tickangle=-45,\n",
    "                 font=dict(color='black'),\n",
    "                 paper_bgcolor='white',\n",
    "                 plot_bgcolor='white',\n",
    "                 margin=dict(l=10, r=10, t=60, b=10))\n",
    "fig.update_xaxes(showline=True, linewidth=1, linecolor='black')\n",
    "fig.update_yaxes(showline=True, linewidth=1, linecolor='black')\n",
    "fig.update_layout(template=\"plotly_dark\")\n",
    "fig.show()"
   ]
  },
  {
   "cell_type": "code",
   "execution_count": null,
   "metadata": {},
   "outputs": [],
   "source": []
  }
 ],
 "metadata": {
  "kernelspec": {
   "display_name": "Python 3 (ipykernel)",
   "language": "python",
   "name": "python3"
  },
  "language_info": {
   "codemirror_mode": {
    "name": "ipython",
    "version": 3
   },
   "file_extension": ".py",
   "mimetype": "text/x-python",
   "name": "python",
   "nbconvert_exporter": "python",
   "pygments_lexer": "ipython3",
   "version": "3.9.12"
  }
 },
 "nbformat": 4,
 "nbformat_minor": 2
}
